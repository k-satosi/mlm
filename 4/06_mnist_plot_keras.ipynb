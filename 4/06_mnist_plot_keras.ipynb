{
 "cells": [
  {
   "cell_type": "code",
   "execution_count": 1,
   "metadata": {},
   "outputs": [
    {
     "name": "stderr",
     "output_type": "stream",
     "text": [
      "Using TensorFlow backend.\n"
     ]
    }
   ],
   "source": [
    "%matplotlib inline\n",
    "import numpy as np\n",
    "from keras.models import Sequential\n",
    "from keras.layers.core import Dense, Activation, Dropout\n",
    "from keras.optimizers import SGD\n",
    "from keras import backend as K\n",
    "from sklearn import datasets\n",
    "from sklearn.model_selection import train_test_split\n",
    "import matplotlib.pyplot as plt"
   ]
  },
  {
   "cell_type": "code",
   "execution_count": 2,
   "metadata": {},
   "outputs": [],
   "source": [
    "np.random.seed(123)\n",
    "\n",
    "'''\n",
    "データの生成\n",
    "'''\n",
    "mnist = datasets.fetch_mldata('MNIST original', data_home='.')\n",
    "\n",
    "n = len(mnist.data)\n",
    "N = 30000  # MNISTの一部を使う\n",
    "N_train = 20000\n",
    "N_validation = 4000\n",
    "indices = np.random.permutation(range(n))[:N]  # ランダムにN枚を選択\n",
    "\n",
    "X = mnist.data[indices]\n",
    "y = mnist.target[indices]\n",
    "Y = np.eye(10)[y.astype(int)]\n",
    "\n",
    "X_train, X_test, Y_train, Y_test = \\\n",
    "    train_test_split(X, Y, test_size=N_validation)\n",
    "X_train, X_validation, Y_train, Y_validation = \\\n",
    "    train_test_split(X_train, Y_train, test_size=N_validation)\n"
   ]
  },
  {
   "cell_type": "code",
   "execution_count": 3,
   "metadata": {
    "collapsed": true
   },
   "outputs": [],
   "source": [
    "'''\n",
    "モデル設定\n",
    "'''\n",
    "n_in = len(X[0])  # 784\n",
    "n_hiddens = [200, 200, 200]\n",
    "n_out = len(Y[0])  # 10\n",
    "p_keep = 0.5\n",
    "activation = 'relu'"
   ]
  },
  {
   "cell_type": "code",
   "execution_count": 4,
   "metadata": {
    "collapsed": true
   },
   "outputs": [],
   "source": [
    "def weight_variable(shape):\n",
    "    # 標準偏差0.01の切断正規分布に従う乱数を返す\n",
    "    return K.truncated_normal(shape, stddev=0.01)\n",
    "    # return np.random.normal(scale=0.01, size=shape)"
   ]
  },
  {
   "cell_type": "code",
   "execution_count": 5,
   "metadata": {
    "collapsed": true
   },
   "outputs": [],
   "source": [
    "model = Sequential()\n",
    "for i, input_dim in enumerate(([n_in] + n_hiddens)[:-1]):\n",
    "    model.add(Dense(n_hiddens[i], input_dim=input_dim,\n",
    "                    kernel_initializer=weight_variable))\n",
    "    model.add(Activation(activation))\n",
    "    model.add(Dropout(p_keep))\n",
    "\n",
    "model.add(Dense(n_out, kernel_initializer=weight_variable))\n",
    "model.add(Activation('softmax'))\n",
    "\n",
    "model.compile(loss='categorical_crossentropy',\n",
    "              optimizer=SGD(lr=0.01),\n",
    "              metrics=['accuracy'])"
   ]
  },
  {
   "cell_type": "code",
   "execution_count": 6,
   "metadata": {
    "scrolled": false
   },
   "outputs": [
    {
     "name": "stdout",
     "output_type": "stream",
     "text": [
      "Train on 22000 samples, validate on 4000 samples\n",
      "Epoch 1/50\n",
      "22000/22000 [==============================] - 2s 106us/step - loss: 2.1686 - acc: 0.1866 - val_loss: 1.5564 - val_acc: 0.5437\n",
      "Epoch 2/50\n",
      "22000/22000 [==============================] - 2s 78us/step - loss: 1.1072 - acc: 0.6232 - val_loss: 0.5698 - val_acc: 0.8400\n",
      "Epoch 3/50\n",
      "22000/22000 [==============================] - 2s 75us/step - loss: 0.6589 - acc: 0.7953 - val_loss: 0.3891 - val_acc: 0.8953\n",
      "Epoch 4/50\n",
      "22000/22000 [==============================] - 2s 77us/step - loss: 0.5068 - acc: 0.8479 - val_loss: 0.3094 - val_acc: 0.9130\n",
      "Epoch 5/50\n",
      "22000/22000 [==============================] - 2s 79us/step - loss: 0.4224 - acc: 0.8780 - val_loss: 0.2588 - val_acc: 0.9282\n",
      "Epoch 6/50\n",
      "22000/22000 [==============================] - 2s 76us/step - loss: 0.3643 - acc: 0.8964 - val_loss: 0.2395 - val_acc: 0.9345\n",
      "Epoch 7/50\n",
      "22000/22000 [==============================] - 2s 77us/step - loss: 0.3290 - acc: 0.9054 - val_loss: 0.2229 - val_acc: 0.9370\n",
      "Epoch 8/50\n",
      "22000/22000 [==============================] - 2s 76us/step - loss: 0.2951 - acc: 0.9157 - val_loss: 0.2037 - val_acc: 0.9422\n",
      "Epoch 9/50\n",
      "22000/22000 [==============================] - 2s 78us/step - loss: 0.2772 - acc: 0.9203 - val_loss: 0.1917 - val_acc: 0.9463\n",
      "Epoch 10/50\n",
      "22000/22000 [==============================] - 2s 102us/step - loss: 0.2549 - acc: 0.9265 - val_loss: 0.1802 - val_acc: 0.9490\n",
      "Epoch 11/50\n",
      "22000/22000 [==============================] - 2s 93us/step - loss: 0.2383 - acc: 0.9331 - val_loss: 0.1800 - val_acc: 0.9497\n",
      "Epoch 12/50\n",
      "22000/22000 [==============================] - 2s 104us/step - loss: 0.2289 - acc: 0.9325 - val_loss: 0.1669 - val_acc: 0.9507\n",
      "Epoch 13/50\n",
      "22000/22000 [==============================] - 2s 77us/step - loss: 0.2176 - acc: 0.9395 - val_loss: 0.1681 - val_acc: 0.9523\n",
      "Epoch 14/50\n",
      "22000/22000 [==============================] - 2s 79us/step - loss: 0.2035 - acc: 0.9419 - val_loss: 0.1620 - val_acc: 0.9540\n",
      "Epoch 15/50\n",
      "22000/22000 [==============================] - 2s 77us/step - loss: 0.1948 - acc: 0.9438 - val_loss: 0.1506 - val_acc: 0.9585\n",
      "Epoch 16/50\n",
      "22000/22000 [==============================] - 2s 79us/step - loss: 0.1864 - acc: 0.9464 - val_loss: 0.1585 - val_acc: 0.9587\n",
      "Epoch 17/50\n",
      "22000/22000 [==============================] - 2s 77us/step - loss: 0.1741 - acc: 0.9499 - val_loss: 0.1493 - val_acc: 0.9597\n",
      "Epoch 18/50\n",
      "22000/22000 [==============================] - 2s 83us/step - loss: 0.1703 - acc: 0.9515 - val_loss: 0.1495 - val_acc: 0.9600\n",
      "Epoch 19/50\n",
      "22000/22000 [==============================] - 2s 79us/step - loss: 0.1685 - acc: 0.9522 - val_loss: 0.1528 - val_acc: 0.9577\n",
      "Epoch 20/50\n",
      "22000/22000 [==============================] - 2s 81us/step - loss: 0.1603 - acc: 0.9530 - val_loss: 0.1458 - val_acc: 0.9588\n",
      "Epoch 21/50\n",
      "22000/22000 [==============================] - 2s 78us/step - loss: 0.1535 - acc: 0.9555 - val_loss: 0.1414 - val_acc: 0.9627\n",
      "Epoch 22/50\n",
      "22000/22000 [==============================] - 2s 78us/step - loss: 0.1535 - acc: 0.9545 - val_loss: 0.1433 - val_acc: 0.9618\n",
      "Epoch 23/50\n",
      "22000/22000 [==============================] - 2s 76us/step - loss: 0.1484 - acc: 0.9574 - val_loss: 0.1399 - val_acc: 0.9640\n",
      "Epoch 24/50\n",
      "22000/22000 [==============================] - 2s 75us/step - loss: 0.1445 - acc: 0.9577 - val_loss: 0.1374 - val_acc: 0.9642\n",
      "Epoch 25/50\n",
      "22000/22000 [==============================] - 2s 76us/step - loss: 0.1386 - acc: 0.9591 - val_loss: 0.1328 - val_acc: 0.9652\n",
      "Epoch 26/50\n",
      "22000/22000 [==============================] - 2s 77us/step - loss: 0.1361 - acc: 0.9610 - val_loss: 0.1352 - val_acc: 0.9620\n",
      "Epoch 27/50\n",
      "22000/22000 [==============================] - 2s 76us/step - loss: 0.1308 - acc: 0.9607 - val_loss: 0.1410 - val_acc: 0.9648\n",
      "Epoch 28/50\n",
      "22000/22000 [==============================] - 2s 77us/step - loss: 0.1244 - acc: 0.9646 - val_loss: 0.1382 - val_acc: 0.9648\n",
      "Epoch 29/50\n",
      "22000/22000 [==============================] - 2s 76us/step - loss: 0.1286 - acc: 0.9625 - val_loss: 0.1349 - val_acc: 0.9640\n",
      "Epoch 30/50\n",
      "22000/22000 [==============================] - 2s 76us/step - loss: 0.1212 - acc: 0.9640 - val_loss: 0.1386 - val_acc: 0.9635\n",
      "Epoch 31/50\n",
      "22000/22000 [==============================] - 2s 78us/step - loss: 0.1230 - acc: 0.9649 - val_loss: 0.1352 - val_acc: 0.9638\n",
      "Epoch 32/50\n",
      "22000/22000 [==============================] - 2s 77us/step - loss: 0.1122 - acc: 0.9671 - val_loss: 0.1338 - val_acc: 0.9660\n",
      "Epoch 33/50\n",
      "22000/22000 [==============================] - 2s 76us/step - loss: 0.1124 - acc: 0.9664 - val_loss: 0.1358 - val_acc: 0.9655\n",
      "Epoch 34/50\n",
      "22000/22000 [==============================] - 2s 77us/step - loss: 0.1094 - acc: 0.9669 - val_loss: 0.1380 - val_acc: 0.9650\n",
      "Epoch 35/50\n",
      "22000/22000 [==============================] - 2s 76us/step - loss: 0.1031 - acc: 0.9690 - val_loss: 0.1374 - val_acc: 0.9642\n",
      "Epoch 36/50\n",
      "22000/22000 [==============================] - 2s 76us/step - loss: 0.1025 - acc: 0.9706 - val_loss: 0.1402 - val_acc: 0.9655\n",
      "Epoch 37/50\n",
      "22000/22000 [==============================] - 2s 77us/step - loss: 0.0990 - acc: 0.9703 - val_loss: 0.1316 - val_acc: 0.9670\n",
      "Epoch 38/50\n",
      "22000/22000 [==============================] - 2s 76us/step - loss: 0.1067 - acc: 0.9690 - val_loss: 0.1319 - val_acc: 0.9658\n",
      "Epoch 39/50\n",
      "22000/22000 [==============================] - 2s 77us/step - loss: 0.1028 - acc: 0.9691 - val_loss: 0.1353 - val_acc: 0.9670\n",
      "Epoch 40/50\n",
      "22000/22000 [==============================] - 2s 76us/step - loss: 0.0975 - acc: 0.9701 - val_loss: 0.1431 - val_acc: 0.9660\n",
      "Epoch 41/50\n",
      "22000/22000 [==============================] - 2s 76us/step - loss: 0.0945 - acc: 0.9719 - val_loss: 0.1380 - val_acc: 0.9658\n",
      "Epoch 42/50\n",
      "22000/22000 [==============================] - 2s 77us/step - loss: 0.0891 - acc: 0.9731 - val_loss: 0.1320 - val_acc: 0.9688\n",
      "Epoch 43/50\n",
      "22000/22000 [==============================] - 2s 78us/step - loss: 0.0995 - acc: 0.9698 - val_loss: 0.1267 - val_acc: 0.9670\n",
      "Epoch 44/50\n",
      "22000/22000 [==============================] - 2s 77us/step - loss: 0.0917 - acc: 0.9728 - val_loss: 0.1294 - val_acc: 0.9685\n",
      "Epoch 45/50\n",
      "22000/22000 [==============================] - 2s 76us/step - loss: 0.0937 - acc: 0.9711 - val_loss: 0.1350 - val_acc: 0.9685\n",
      "Epoch 46/50\n",
      "22000/22000 [==============================] - 2s 76us/step - loss: 0.0892 - acc: 0.9731 - val_loss: 0.1327 - val_acc: 0.9683\n",
      "Epoch 47/50\n",
      "22000/22000 [==============================] - 2s 76us/step - loss: 0.0843 - acc: 0.9747 - val_loss: 0.1357 - val_acc: 0.9665\n",
      "Epoch 48/50\n",
      "22000/22000 [==============================] - 2s 77us/step - loss: 0.0900 - acc: 0.9727 - val_loss: 0.1326 - val_acc: 0.9675\n",
      "Epoch 49/50\n",
      "22000/22000 [==============================] - 2s 79us/step - loss: 0.0835 - acc: 0.9755 - val_loss: 0.1378 - val_acc: 0.9658\n",
      "Epoch 50/50\n",
      "22000/22000 [==============================] - 2s 77us/step - loss: 0.0879 - acc: 0.9745 - val_loss: 0.1321 - val_acc: 0.9678\n"
     ]
    }
   ],
   "source": [
    "'''\n",
    "モデル学習\n",
    "'''\n",
    "epochs = 50\n",
    "batch_size = 200\n",
    "\n",
    "hist = model.fit(X_train, Y_train, epochs=epochs,\n",
    "                 batch_size=batch_size,\n",
    "                 validation_data=(X_validation, Y_validation))\n"
   ]
  },
  {
   "cell_type": "code",
   "execution_count": 7,
   "metadata": {},
   "outputs": [
    {
     "data": {
      "image/png": "[encoded data removed]",
      "text/plain": [
       "<matplotlib.figure.Figure at 0x1a22fe74a8>"
      ]
     },
     "metadata": {},
     "output_type": "display_data"
    }
   ],
   "source": [
    "'''\n",
    "学習の進み具合を可視化\n",
    "'''\n",
    "val_acc = hist.history['val_acc']\n",
    "val_loss = hist.history['val_loss']\n",
    "\n",
    "plt.rc('font', family='serif')\n",
    "fig = plt.figure()\n",
    "plt.plot(range(epochs), val_acc, label='acc', color='black')\n",
    "plt.xlabel('epochs')\n",
    "plt.show()\n",
    "# plt.savefig('mnist_keras.eps')\n"
   ]
  },
  {
   "cell_type": "code",
   "execution_count": 8,
   "metadata": {},
   "outputs": [
    {
     "name": "stdout",
     "output_type": "stream",
     "text": [
      "4000/4000 [==============================] - 0s 64us/step\n",
      "[0.11444434746610932, 0.96950000000000003]\n"
     ]
    }
   ],
   "source": [
    "'''\n",
    "予測精度の評価\n",
    "'''\n",
    "loss_and_metrics = model.evaluate(X_test, Y_test)\n",
    "print(loss_and_metrics)\n"
   ]
  }
 ],
 "metadata": {
  "kernelspec": {
   "display_name": "Python 3",
   "language": "python",
   "name": "python3"
  },
  "language_info": {
   "codemirror_mode": {
    "name": "ipython",
    "version": 3
   },
   "file_extension": ".py",
   "mimetype": "text/x-python",
   "name": "python",
   "nbconvert_exporter": "python",
   "pygments_lexer": "ipython3",
   "version": "3.5.4"
  }
 },
 "nbformat": 4,
 "nbformat_minor": 2
}
